{
 "cells": [
  {
   "cell_type": "code",
   "execution_count": 1,
   "id": "fa15b7dc",
   "metadata": {},
   "outputs": [],
   "source": [
    "import sys\n",
    "import os\n",
    "sys.path.append(os.path.join(r'C:\\Users\\AA2-PC2\\Software\\NI-experiment-control - Atom Array\\nistreamer'))"
   ]
  },
  {
   "cell_type": "code",
   "execution_count": 2,
   "id": "4e949ac0",
   "metadata": {
    "scrolled": true
   },
   "outputs": [],
   "source": [
    "from nistreamer import NIStreamer\n",
    "from nistreamer.card_models.ni6535 import NI6535"
   ]
  },
  {
   "cell_type": "code",
   "execution_count": 3,
   "id": "59ad430f",
   "metadata": {},
   "outputs": [],
   "source": [
    "my_streamer = NIStreamer()"
   ]
  },
  {
   "cell_type": "code",
   "execution_count": 4,
   "id": "85dd0626",
   "metadata": {},
   "outputs": [],
   "source": [
    "ao_card = my_streamer.add_ao_card(max_name='Dev1', samp_rate=1e6, nickname='ao_card')"
   ]
  },
  {
   "cell_type": "code",
   "execution_count": 5,
   "id": "64fa6246",
   "metadata": {},
   "outputs": [
    {
     "data": {
      "text/plain": [
       "nistreamer.card.AOCardProxy"
      ]
     },
     "execution_count": 5,
     "metadata": {},
     "output_type": "execute_result"
    }
   ],
   "source": [
    "type(ao_card)"
   ]
  },
  {
   "cell_type": "code",
   "execution_count": 6,
   "id": "d6346e65",
   "metadata": {},
   "outputs": [],
   "source": [
    "do_card = my_streamer.add_do_card(max_name='Dev2', samp_rate=10e6)"
   ]
  },
  {
   "cell_type": "code",
   "execution_count": 7,
   "id": "4f605d10",
   "metadata": {},
   "outputs": [
    {
     "data": {
      "text/plain": [
       "nistreamer.card.DOCardProxy"
      ]
     },
     "execution_count": 7,
     "metadata": {},
     "output_type": "execute_result"
    }
   ],
   "source": [
    "type(do_card)"
   ]
  },
  {
   "cell_type": "code",
   "execution_count": 8,
   "id": "1c9d6ffe",
   "metadata": {},
   "outputs": [],
   "source": [
    "do_6536 = my_streamer.add_do_card(max_name='Dev3', samp_rate=10e6, model_class=NI6535)"
   ]
  },
  {
   "cell_type": "code",
   "execution_count": 9,
   "id": "eb10bbbe",
   "metadata": {},
   "outputs": [
    {
     "data": {
      "text/plain": [
       "nistreamer.card_models.ni6535.NI6535"
      ]
     },
     "execution_count": 9,
     "metadata": {},
     "output_type": "execute_result"
    }
   ],
   "source": [
    "type(do_6536)"
   ]
  },
  {
   "cell_type": "code",
   "execution_count": 10,
   "id": "6adf15f4",
   "metadata": {},
   "outputs": [
    {
     "data": {
      "text/plain": [
       "Channel port0/line0 on card Dev2"
      ]
     },
     "execution_count": 10,
     "metadata": {},
     "output_type": "execute_result"
    }
   ],
   "source": [
    "do_card.add_chan(\n",
    "    port_idx=0,\n",
    "    line_idx=0\n",
    ")"
   ]
  },
  {
   "cell_type": "code",
   "execution_count": 11,
   "id": "8946a15d",
   "metadata": {},
   "outputs": [
    {
     "data": {
      "text/plain": [
       "Channel port1/line2 on card Dev3"
      ]
     },
     "execution_count": 11,
     "metadata": {},
     "output_type": "execute_result"
    }
   ],
   "source": [
    "do_6536.add_chan(chan_idx=10)"
   ]
  },
  {
   "cell_type": "code",
   "execution_count": 12,
   "id": "f4e78fa9",
   "metadata": {},
   "outputs": [
    {
     "data": {
      "text/plain": [
       "{'port1/line2': Channel port1/line2 on card Dev3}"
      ]
     },
     "execution_count": 12,
     "metadata": {},
     "output_type": "execute_result"
    }
   ],
   "source": [
    "do_6536._chan_dict"
   ]
  },
  {
   "cell_type": "code",
   "execution_count": null,
   "id": "22da7c38",
   "metadata": {},
   "outputs": [],
   "source": []
  }
 ],
 "metadata": {
  "kernelspec": {
   "display_name": "Python 3",
   "language": "python",
   "name": "python3"
  },
  "language_info": {
   "codemirror_mode": {
    "name": "ipython",
    "version": 3
   },
   "file_extension": ".py",
   "mimetype": "text/x-python",
   "name": "python",
   "nbconvert_exporter": "python",
   "pygments_lexer": "ipython3",
   "version": "3.8.8"
  }
 },
 "nbformat": 4,
 "nbformat_minor": 5
}
