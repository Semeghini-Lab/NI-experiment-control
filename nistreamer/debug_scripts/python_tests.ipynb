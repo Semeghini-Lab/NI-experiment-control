{
 "cells": [
  {
   "cell_type": "code",
   "execution_count": 1,
   "metadata": {},
   "outputs": [],
   "source": [
    "import sys\n",
    "import os\n",
    "\n",
    "sys.path.append('../')"
   ]
  },
  {
   "cell_type": "code",
   "execution_count": 4,
   "metadata": {},
   "outputs": [
    {
     "data": {
      "text/plain": [
       "5.0"
      ]
     },
     "execution_count": 4,
     "metadata": {},
     "output_type": "execute_result"
    }
   ],
   "source": [
    "from nistreamer.streamer import NIStreamer\n",
    "from nistreamer.utils import iplot\n",
    "\n",
    "ni_streamer = NIStreamer()\n",
    "\n",
    "ao_card = ni_streamer.add_ao_card(max_name='PXI1Slot3', samp_rate=1e6)\n",
    "my_ao = ao_card.add_chan(chan_idx=0)\n",
    "\n",
    "ni_streamer.clear_edit_cache()\n",
    "my_ao.linramp(t=0, dur=1, start_val=0., end_val=1., keep_val=True)\n",
    "ni_streamer.compile(5.)"
   ]
  },
  {
   "cell_type": "code",
   "execution_count": 5,
   "metadata": {},
   "outputs": [],
   "source": [
    "iplot(\n",
    "    chan_list=[my_ao]\n",
    ")"
   ]
  },
  {
   "cell_type": "code",
   "execution_count": 17,
   "metadata": {},
   "outputs": [
    {
     "data": {
      "text/plain": [
       "2.0"
      ]
     },
     "execution_count": 17,
     "metadata": {},
     "output_type": "execute_result"
    }
   ],
   "source": [
    "ni_streamer.compile()"
   ]
  },
  {
   "cell_type": "code",
   "execution_count": 13,
   "metadata": {},
   "outputs": [
    {
     "data": {
      "text/plain": [
       "7.5"
      ]
     },
     "execution_count": 13,
     "metadata": {},
     "output_type": "execute_result"
    }
   ],
   "source": [
    "ni_streamer.compile(stop_time=7.5)"
   ]
  },
  {
   "cell_type": "code",
   "execution_count": 14,
   "metadata": {},
   "outputs": [
    {
     "ename": "PanicException",
     "evalue": "DAQmx Error: Device identifier is invalid.\nDevice Specified: PXI1Slot3\nSuggested Device(s): PXI1Slot2, Dev1, PXI1Slot8, PXI1Slot7\n\nTask Name: _unnamedTask<0>\n\nStatus Code: -200220",
     "output_type": "error",
     "traceback": [
      "\u001b[1;31m---------------------------------------------------------------------------\u001b[0m",
      "\u001b[1;31mPanicException\u001b[0m                            Traceback (most recent call last)",
      "\u001b[1;32mc:\\CtrlSoftware\\Dev\\NI-experiment-control\\nistreamer\\debug_scripts\\final_keep_val.ipynb Cell 6\u001b[0m line \u001b[0;36m1\n\u001b[1;32m----> <a href='vscode-notebook-cell:/c%3A/CtrlSoftware/Dev/NI-experiment-control/nistreamer/debug_scripts/final_keep_val.ipynb#W6sZmlsZQ%3D%3D?line=0'>1</a>\u001b[0m ni_streamer\u001b[39m.\u001b[39mstream_exp()\n",
      "File \u001b[1;32mc:\\CtrlSoftware\\Dev\\NI-experiment-control\\nistreamer\\debug_scripts\\..\\nistreamer\\streamer.py:105\u001b[0m, in \u001b[0;36mNIStreamer.stream_exp\u001b[1;34m(self, stream_buftime, nreps)\u001b[0m\n\u001b[0;32m    100\u001b[0m \u001b[39mdef\u001b[39;00m \u001b[39mstream_exp\u001b[39m(\n\u001b[0;32m    101\u001b[0m         \u001b[39mself\u001b[39m,\n\u001b[0;32m    102\u001b[0m         stream_buftime: Optional[\u001b[39mfloat\u001b[39m] \u001b[39m=\u001b[39m \u001b[39m50\u001b[39m,\n\u001b[0;32m    103\u001b[0m         nreps: Optional[\u001b[39mint\u001b[39m] \u001b[39m=\u001b[39m \u001b[39m1\u001b[39m\n\u001b[0;32m    104\u001b[0m ):\n\u001b[1;32m--> 105\u001b[0m     \u001b[39mself\u001b[39m\u001b[39m.\u001b[39m_dll\u001b[39m.\u001b[39mstream_exp(\n\u001b[0;32m    106\u001b[0m         stream_buftime\u001b[39m=\u001b[39mstream_buftime,\n\u001b[0;32m    107\u001b[0m         nreps\u001b[39m=\u001b[39mnreps\n\u001b[0;32m    108\u001b[0m     )\n",
      "\u001b[1;31mPanicException\u001b[0m: DAQmx Error: Device identifier is invalid.\nDevice Specified: PXI1Slot3\nSuggested Device(s): PXI1Slot2, Dev1, PXI1Slot8, PXI1Slot7\n\nTask Name: _unnamedTask<0>\n\nStatus Code: -200220"
     ]
    }
   ],
   "source": [
    "ni_streamer.stream_exp()"
   ]
  }
 ],
 "metadata": {
  "kernelspec": {
   "display_name": "base",
   "language": "python",
   "name": "python3"
  },
  "language_info": {
   "codemirror_mode": {
    "name": "ipython",
    "version": 3
   },
   "file_extension": ".py",
   "mimetype": "text/x-python",
   "name": "python",
   "nbconvert_exporter": "python",
   "pygments_lexer": "ipython3",
   "version": "3.11.5"
  }
 },
 "nbformat": 4,
 "nbformat_minor": 2
}
