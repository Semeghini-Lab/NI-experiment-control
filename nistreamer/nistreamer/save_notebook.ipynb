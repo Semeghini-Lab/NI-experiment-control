{
 "cells": [
  {
   "cell_type": "code",
   "execution_count": 16,
   "metadata": {},
   "outputs": [
    {
     "ename": "Exception",
     "evalue": "An error occurred: Could not find the notebook path. Are you running this in a Jupyter environment?",
     "output_type": "error",
     "traceback": [
      "\u001b[1;31m---------------------------------------------------------------------------\u001b[0m",
      "\u001b[1;31mException\u001b[0m                                 Traceback (most recent call last)",
      "\u001b[1;32mc:\\CtrlSoftware\\Dev\\NI-experiment-control\\nistreamer\\nistreamer\\save_notebook.ipynb Cell 1\u001b[0m line \u001b[0;36m3\n\u001b[0;32m     <a href='vscode-notebook-cell:/c%3A/CtrlSoftware/Dev/NI-experiment-control/nistreamer/nistreamer/save_notebook.ipynb#W1sZmlsZQ%3D%3D?line=36'>37</a>\u001b[0m     \u001b[39mif\u001b[39;00m \u001b[39mnot\u001b[39;00m found:\n\u001b[1;32m---> <a href='vscode-notebook-cell:/c%3A/CtrlSoftware/Dev/NI-experiment-control/nistreamer/nistreamer/save_notebook.ipynb#W1sZmlsZQ%3D%3D?line=37'>38</a>\u001b[0m         \u001b[39mraise\u001b[39;00m \u001b[39mException\u001b[39;00m(\u001b[39m'\u001b[39m\u001b[39mCould not find the notebook path. Are you running this in a Jupyter environment?\u001b[39m\u001b[39m'\u001b[39m)\n\u001b[0;32m     <a href='vscode-notebook-cell:/c%3A/CtrlSoftware/Dev/NI-experiment-control/nistreamer/nistreamer/save_notebook.ipynb#W1sZmlsZQ%3D%3D?line=39'>40</a>\u001b[0m \u001b[39mexcept\u001b[39;00m \u001b[39mNameError\u001b[39;00m:\n\u001b[0;32m     <a href='vscode-notebook-cell:/c%3A/CtrlSoftware/Dev/NI-experiment-control/nistreamer/nistreamer/save_notebook.ipynb#W1sZmlsZQ%3D%3D?line=40'>41</a>\u001b[0m     \u001b[39m# If we're not in a Jupyter environment, it's likely a standard Python script\u001b[39;00m\n",
      "\u001b[1;31mException\u001b[0m: Could not find the notebook path. Are you running this in a Jupyter environment?",
      "\nDuring handling of the above exception, another exception occurred:\n",
      "\u001b[1;31mException\u001b[0m                                 Traceback (most recent call last)",
      "\u001b[1;32mc:\\CtrlSoftware\\Dev\\NI-experiment-control\\nistreamer\\nistreamer\\save_notebook.ipynb Cell 1\u001b[0m line \u001b[0;36m5\n\u001b[0;32m     <a href='vscode-notebook-cell:/c%3A/CtrlSoftware/Dev/NI-experiment-control/nistreamer/nistreamer/save_notebook.ipynb#W1sZmlsZQ%3D%3D?line=47'>48</a>\u001b[0m     \u001b[39mexcept\u001b[39;00m \u001b[39mException\u001b[39;00m \u001b[39mas\u001b[39;00m e:\n\u001b[0;32m     <a href='vscode-notebook-cell:/c%3A/CtrlSoftware/Dev/NI-experiment-control/nistreamer/nistreamer/save_notebook.ipynb#W1sZmlsZQ%3D%3D?line=48'>49</a>\u001b[0m         \u001b[39m# If any other exception occurred, we re-raise it\u001b[39;00m\n\u001b[0;32m     <a href='vscode-notebook-cell:/c%3A/CtrlSoftware/Dev/NI-experiment-control/nistreamer/nistreamer/save_notebook.ipynb#W1sZmlsZQ%3D%3D?line=49'>50</a>\u001b[0m         \u001b[39mraise\u001b[39;00m \u001b[39mException\u001b[39;00m(\u001b[39mf\u001b[39m\u001b[39m'\u001b[39m\u001b[39mAn error occurred: \u001b[39m\u001b[39m{\u001b[39;00me\u001b[39m}\u001b[39;00m\u001b[39m'\u001b[39m)\n\u001b[1;32m---> <a href='vscode-notebook-cell:/c%3A/CtrlSoftware/Dev/NI-experiment-control/nistreamer/nistreamer/save_notebook.ipynb#W1sZmlsZQ%3D%3D?line=51'>52</a>\u001b[0m save_script(\u001b[39m\"\u001b[39m\u001b[39m./\u001b[39m\u001b[39m\"\u001b[39m, \u001b[39m\"\u001b[39m\u001b[39mtrial\u001b[39m\u001b[39m\"\u001b[39m)\n",
      "\u001b[1;32mc:\\CtrlSoftware\\Dev\\NI-experiment-control\\nistreamer\\nistreamer\\save_notebook.ipynb Cell 1\u001b[0m line \u001b[0;36m5\n\u001b[0;32m     <a href='vscode-notebook-cell:/c%3A/CtrlSoftware/Dev/NI-experiment-control/nistreamer/nistreamer/save_notebook.ipynb#W1sZmlsZQ%3D%3D?line=45'>46</a>\u001b[0m     \u001b[39mprint\u001b[39m(\u001b[39mf\u001b[39m\u001b[39m'\u001b[39m\u001b[39mScript saved as \u001b[39m\u001b[39m{\u001b[39;00mtarget_path\u001b[39m}\u001b[39;00m\u001b[39m'\u001b[39m)\n\u001b[0;32m     <a href='vscode-notebook-cell:/c%3A/CtrlSoftware/Dev/NI-experiment-control/nistreamer/nistreamer/save_notebook.ipynb#W1sZmlsZQ%3D%3D?line=47'>48</a>\u001b[0m \u001b[39mexcept\u001b[39;00m \u001b[39mException\u001b[39;00m \u001b[39mas\u001b[39;00m e:\n\u001b[0;32m     <a href='vscode-notebook-cell:/c%3A/CtrlSoftware/Dev/NI-experiment-control/nistreamer/nistreamer/save_notebook.ipynb#W1sZmlsZQ%3D%3D?line=48'>49</a>\u001b[0m     \u001b[39m# If any other exception occurred, we re-raise it\u001b[39;00m\n\u001b[1;32m---> <a href='vscode-notebook-cell:/c%3A/CtrlSoftware/Dev/NI-experiment-control/nistreamer/nistreamer/save_notebook.ipynb#W1sZmlsZQ%3D%3D?line=49'>50</a>\u001b[0m     \u001b[39mraise\u001b[39;00m \u001b[39mException\u001b[39;00m(\u001b[39mf\u001b[39m\u001b[39m'\u001b[39m\u001b[39mAn error occurred: \u001b[39m\u001b[39m{\u001b[39;00me\u001b[39m}\u001b[39;00m\u001b[39m'\u001b[39m)\n",
      "\u001b[1;31mException\u001b[0m: An error occurred: Could not find the notebook path. Are you running this in a Jupyter environment?"
     ]
    }
   ],
   "source": [
    "import os\n",
    "import shutil\n",
    "import requests\n",
    "import ipykernel\n",
    "import json\n",
    "from notebook import notebookapp\n",
    "from IPython.display import display, Javascript\n",
    "\n",
    "def save_script(target_dir, name):\n",
    "    # Attempt to get the notebook path if running inside Jupyter\n",
    "    try:\n",
    "        # This line will throw a NameError if not running in a Jupyter environment\n",
    "        connection_file = os.path.basename(ipykernel.get_connection_file())\n",
    "        kernel_id = connection_file.split('-', 1)[1].split('.')[0]\n",
    "\n",
    "        found = False\n",
    "        for srv in notebookapp.list_running_servers():\n",
    "            try:\n",
    "                response = requests.get(f'{srv[\"url\"]}api/sessions',\n",
    "                                        headers={'Authorization': f'token {srv[\"token\"]}'},\n",
    "                                        verify=False)  # It's not recommended to skip verification in production\n",
    "                response.raise_for_status()\n",
    "                sessions = json.loads(response.text)\n",
    "                for sess in sessions:\n",
    "                    if sess['kernel']['id'] == kernel_id:\n",
    "                        notebook_path = sess['notebook']['path']\n",
    "                        full_path = os.path.join(srv['notebook_dir'], notebook_path)\n",
    "                        target_path = os.path.join(target_dir, f'{name}.ipynb')\n",
    "                        shutil.copy2(full_path, target_path)\n",
    "                        print(f'Notebook saved as {target_path}')\n",
    "                        found = True\n",
    "                        break\n",
    "            except Exception as e:\n",
    "                raise Exception(f'Error while trying to save the notebook: {e}')\n",
    "            if found:\n",
    "                break\n",
    "        if not found:\n",
    "            raise Exception('Could not find the notebook path. Are you running this in a Jupyter environment?')\n",
    "\n",
    "    except NameError:\n",
    "        # If we're not in a Jupyter environment, it's likely a standard Python script\n",
    "        script_path = os.path.abspath('')\n",
    "        full_path = os.path.join(script_path, __file__)\n",
    "        target_path = os.path.join(target_dir, f'{name}.py')\n",
    "        shutil.copy2(full_path, target_path)\n",
    "        print(f'Script saved as {target_path}')\n",
    "\n",
    "    except Exception as e:\n",
    "        # If any other exception occurred, we re-raise it\n",
    "        raise Exception(f'An error occurred: {e}')\n",
    "\n",
    "save_script(\"./\", \"trial\")"
   ]
  },
  {
   "cell_type": "code",
   "execution_count": null,
   "metadata": {},
   "outputs": [],
   "source": []
  }
 ],
 "metadata": {
  "kernelspec": {
   "display_name": "base",
   "language": "python",
   "name": "python3"
  },
  "language_info": {
   "codemirror_mode": {
    "name": "ipython",
    "version": 3
   },
   "file_extension": ".py",
   "mimetype": "text/x-python",
   "name": "python",
   "nbconvert_exporter": "python",
   "pygments_lexer": "ipython3",
   "version": "3.11.5"
  }
 },
 "nbformat": 4,
 "nbformat_minor": 2
}
